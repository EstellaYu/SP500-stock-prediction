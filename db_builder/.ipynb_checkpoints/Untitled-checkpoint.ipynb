{
 "cells": [
  {
   "cell_type": "code",
   "execution_count": 1,
   "metadata": {},
   "outputs": [],
   "source": [
    "# Dependencies\n",
    "import datetime\n",
    "from dateutil.relativedelta import relativedelta"
   ]
  },
  {
   "cell_type": "code",
   "execution_count": 2,
   "metadata": {},
   "outputs": [],
   "source": [
    "# Define a function to add \"n\" months to a date\n",
    "def add_months (start_date, n_months):\n",
    "    \n",
    "    # Parse the text string to get the current year and month, then add n_months\n",
    "    temp_year = int(start_date[0:4])\n",
    "    temp_month = int(start_date[5:7]) + n_months\n",
    "    \n",
    "    # If the 'temp_month' is greater than 12, then figure out how many years need to be added, and reset the month\n",
    "    if (temp_month > 12):\n",
    "        temp_year = temp_year + int(temp_month/12)\n",
    "        temp_month = temp_month % 12\n",
    "    \n",
    "    if (temp_month == 0):\n",
    "        new_date = datetime.datetime (temp_year-1, 12, 31) \n",
    "    elif (temp_month == 12):\n",
    "        new_date = datetime.datetime (temp_year, 12, 31) \n",
    "    else:\n",
    "        new_date = datetime.datetime (temp_year, temp_month + 1, 1) - relativedelta(days=1)\n",
    "    return new_date.strftime(\"%Y-%m-%d\")"
   ]
  },
  {
   "cell_type": "code",
   "execution_count": 3,
   "metadata": {},
   "outputs": [
    {
     "name": "stdout",
     "output_type": "stream",
     "text": [
      "2019-11-30\n",
      "2019-10-31\n",
      "2019-09-30\n",
      "2019-08-31\n",
      "2019-07-31\n",
      "2019-06-30\n",
      "2019-05-31\n",
      "2019-04-30\n",
      "2019-03-31\n",
      "2019-02-28\n",
      "2019-01-31\n",
      "2018-12-31\n",
      "2018-11-30\n",
      "2018-10-31\n",
      "2018-09-30\n"
     ]
    }
   ],
   "source": [
    "test = \"2019-12-31\"\n",
    "for i in range (0,15):\n",
    "    new_date = add_months (test, -1)\n",
    "    print (new_date)\n",
    "    test = new_date"
   ]
  }
 ],
 "metadata": {
  "kernelspec": {
   "display_name": "Python 3",
   "language": "python",
   "name": "python3"
  },
  "language_info": {
   "codemirror_mode": {
    "name": "ipython",
    "version": 3
   },
   "file_extension": ".py",
   "mimetype": "text/x-python",
   "name": "python",
   "nbconvert_exporter": "python",
   "pygments_lexer": "ipython3",
   "version": "3.7.3"
  }
 },
 "nbformat": 4,
 "nbformat_minor": 2
}
